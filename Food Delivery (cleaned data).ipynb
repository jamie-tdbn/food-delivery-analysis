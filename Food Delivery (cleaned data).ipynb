{
  "nbformat": 4,
  "nbformat_minor": 0,
  "metadata": {
    "colab": {
      "provenance": []
    },
    "kernelspec": {
      "name": "python3",
      "display_name": "Python 3"
    },
    "language_info": {
      "name": "python"
    }
  },
  "cells": [
    {
      "cell_type": "code",
      "execution_count": 50,
      "metadata": {
        "id": "6bWVRVTRakbe"
      },
      "outputs": [],
      "source": [
        "import pandas as pd\n",
        "\n",
        "# Đọc dữ liệu từ URL\n",
        "url = 'https://docs.google.com/spreadsheets/d/1zIXxEL9WoVnjl_LKj-22Zkexq55xQ1PWU3bKOgG8s2I/export?format=csv&gid=436867342'\n",
        "\n",
        "data = pd.read_csv(url)"
      ]
    },
    {
      "cell_type": "code",
      "source": [
        "data.shape"
      ],
      "metadata": {
        "colab": {
          "base_uri": "https://localhost:8080/"
        },
        "id": "HpXDunkNftce",
        "outputId": "c15ee0a1-c084-4366-b969-aa198f514ff1"
      },
      "execution_count": null,
      "outputs": [
        {
          "output_type": "execute_result",
          "data": {
            "text/plain": [
              "(72314, 17)"
            ]
          },
          "metadata": {},
          "execution_count": 26
        }
      ]
    },
    {
      "cell_type": "code",
      "source": [
        "data.info ()"
      ],
      "metadata": {
        "colab": {
          "base_uri": "https://localhost:8080/"
        },
        "id": "60rrvd-dfvQI",
        "outputId": "7bc03ae3-d77f-4e95-a4dd-98cb9d8cc0c4"
      },
      "execution_count": null,
      "outputs": [
        {
          "output_type": "stream",
          "name": "stdout",
          "text": [
            "<class 'pandas.core.frame.DataFrame'>\n",
            "RangeIndex: 72314 entries, 0 to 72313\n",
            "Data columns (total 17 columns):\n",
            " #   Column                             Non-Null Count  Dtype \n",
            "---  ------                             --------------  ----- \n",
            " 0   Date                               72314 non-null  object\n",
            " 1   Time customer placed order         72314 non-null  object\n",
            " 2   Time order placed at restaurant    72154 non-null  object\n",
            " 3   Time driver arrived at restaurant  54190 non-null  object\n",
            " 4   Delivery time                      72314 non-null  object\n",
            " 5   Driver ID                          72314 non-null  int64 \n",
            " 6   Driver Name                        72314 non-null  object\n",
            " 7   Restaurant ID                      72314 non-null  int64 \n",
            " 8   Customer ID                        72314 non-null  int64 \n",
            " 9   Delivery Area                      72314 non-null  object\n",
            " 10  ASAP                               72314 non-null  object\n",
            " 11  Sub Total                          72314 non-null  object\n",
            " 12  Delivery fee                       72314 non-null  object\n",
            " 13  Service fee                        72314 non-null  object\n",
            " 14  Discount                           72314 non-null  object\n",
            " 15  Tip                                72314 non-null  object\n",
            " 16  Refunded amount                    72314 non-null  object\n",
            "dtypes: int64(3), object(14)\n",
            "memory usage: 9.4+ MB\n"
          ]
        }
      ]
    },
    {
      "cell_type": "code",
      "source": [
        "data.duplicated().sum()"
      ],
      "metadata": {
        "colab": {
          "base_uri": "https://localhost:8080/"
        },
        "id": "YdbrbTV-fxeU",
        "outputId": "5448b607-6615-4c92-d172-4bc52c6c8b91"
      },
      "execution_count": null,
      "outputs": [
        {
          "output_type": "execute_result",
          "data": {
            "text/plain": [
              "0"
            ]
          },
          "metadata": {},
          "execution_count": 28
        }
      ]
    },
    {
      "cell_type": "code",
      "source": [
        "print(data.isnull().sum())"
      ],
      "metadata": {
        "colab": {
          "base_uri": "https://localhost:8080/"
        },
        "id": "9vWUhQRTfzSK",
        "outputId": "12c33b07-cf1a-42ab-814e-0b8fe038352d"
      },
      "execution_count": null,
      "outputs": [
        {
          "output_type": "stream",
          "name": "stdout",
          "text": [
            "Date                                     0\n",
            "Time customer placed order               0\n",
            "Time order placed at restaurant        160\n",
            "Time driver arrived at restaurant    18124\n",
            "Delivery time                            0\n",
            "Driver ID                                0\n",
            "Driver Name                              0\n",
            "Restaurant ID                            0\n",
            "Customer ID                              0\n",
            "Delivery Area                            0\n",
            "ASAP                                     0\n",
            "Sub Total                                0\n",
            "Delivery fee                             0\n",
            "Service fee                              0\n",
            "Discount                                 0\n",
            "Tip                                      0\n",
            "Refunded amount                          0\n",
            "dtype: int64\n"
          ]
        }
      ]
    },
    {
      "cell_type": "code",
      "source": [
        "data.describe().T"
      ],
      "metadata": {
        "colab": {
          "base_uri": "https://localhost:8080/",
          "height": 143
        },
        "id": "E-2BA7zaf0-f",
        "outputId": "018b91cc-5067-4ace-b671-7649b43281dd"
      },
      "execution_count": null,
      "outputs": [
        {
          "output_type": "execute_result",
          "data": {
            "text/plain": [
              "                 count          mean           std        min        25%  \\\n",
              "Driver ID      72314.0  9.221850e+03    124.060497     9007.0     9115.0   \n",
              "Restaurant ID  72314.0  7.205541e+03    117.798753     7002.0     7104.0   \n",
              "Customer ID    72314.0  1.100286e+06  57847.182260  1000052.0  1050173.0   \n",
              "\n",
              "                     50%        75%        max  \n",
              "Driver ID         9222.0     9329.0     9438.0  \n",
              "Restaurant ID     7204.0     7307.0     7409.0  \n",
              "Customer ID    1101445.0  1149893.0  1200360.0  "
            ],
            "text/html": [
              "\n",
              "  <div id=\"df-3b8f9d52-d894-430b-b5b2-870bfeba3a16\" class=\"colab-df-container\">\n",
              "    <div>\n",
              "<style scoped>\n",
              "    .dataframe tbody tr th:only-of-type {\n",
              "        vertical-align: middle;\n",
              "    }\n",
              "\n",
              "    .dataframe tbody tr th {\n",
              "        vertical-align: top;\n",
              "    }\n",
              "\n",
              "    .dataframe thead th {\n",
              "        text-align: right;\n",
              "    }\n",
              "</style>\n",
              "<table border=\"1\" class=\"dataframe\">\n",
              "  <thead>\n",
              "    <tr style=\"text-align: right;\">\n",
              "      <th></th>\n",
              "      <th>count</th>\n",
              "      <th>mean</th>\n",
              "      <th>std</th>\n",
              "      <th>min</th>\n",
              "      <th>25%</th>\n",
              "      <th>50%</th>\n",
              "      <th>75%</th>\n",
              "      <th>max</th>\n",
              "    </tr>\n",
              "  </thead>\n",
              "  <tbody>\n",
              "    <tr>\n",
              "      <th>Driver ID</th>\n",
              "      <td>72314.0</td>\n",
              "      <td>9.221850e+03</td>\n",
              "      <td>124.060497</td>\n",
              "      <td>9007.0</td>\n",
              "      <td>9115.0</td>\n",
              "      <td>9222.0</td>\n",
              "      <td>9329.0</td>\n",
              "      <td>9438.0</td>\n",
              "    </tr>\n",
              "    <tr>\n",
              "      <th>Restaurant ID</th>\n",
              "      <td>72314.0</td>\n",
              "      <td>7.205541e+03</td>\n",
              "      <td>117.798753</td>\n",
              "      <td>7002.0</td>\n",
              "      <td>7104.0</td>\n",
              "      <td>7204.0</td>\n",
              "      <td>7307.0</td>\n",
              "      <td>7409.0</td>\n",
              "    </tr>\n",
              "    <tr>\n",
              "      <th>Customer ID</th>\n",
              "      <td>72314.0</td>\n",
              "      <td>1.100286e+06</td>\n",
              "      <td>57847.182260</td>\n",
              "      <td>1000052.0</td>\n",
              "      <td>1050173.0</td>\n",
              "      <td>1101445.0</td>\n",
              "      <td>1149893.0</td>\n",
              "      <td>1200360.0</td>\n",
              "    </tr>\n",
              "  </tbody>\n",
              "</table>\n",
              "</div>\n",
              "    <div class=\"colab-df-buttons\">\n",
              "\n",
              "  <div class=\"colab-df-container\">\n",
              "    <button class=\"colab-df-convert\" onclick=\"convertToInteractive('df-3b8f9d52-d894-430b-b5b2-870bfeba3a16')\"\n",
              "            title=\"Convert this dataframe to an interactive table.\"\n",
              "            style=\"display:none;\">\n",
              "\n",
              "  <svg xmlns=\"http://www.w3.org/2000/svg\" height=\"24px\" viewBox=\"0 -960 960 960\">\n",
              "    <path d=\"M120-120v-720h720v720H120Zm60-500h600v-160H180v160Zm220 220h160v-160H400v160Zm0 220h160v-160H400v160ZM180-400h160v-160H180v160Zm440 0h160v-160H620v160ZM180-180h160v-160H180v160Zm440 0h160v-160H620v160Z\"/>\n",
              "  </svg>\n",
              "    </button>\n",
              "\n",
              "  <style>\n",
              "    .colab-df-container {\n",
              "      display:flex;\n",
              "      gap: 12px;\n",
              "    }\n",
              "\n",
              "    .colab-df-convert {\n",
              "      background-color: #E8F0FE;\n",
              "      border: none;\n",
              "      border-radius: 50%;\n",
              "      cursor: pointer;\n",
              "      display: none;\n",
              "      fill: #1967D2;\n",
              "      height: 32px;\n",
              "      padding: 0 0 0 0;\n",
              "      width: 32px;\n",
              "    }\n",
              "\n",
              "    .colab-df-convert:hover {\n",
              "      background-color: #E2EBFA;\n",
              "      box-shadow: 0px 1px 2px rgba(60, 64, 67, 0.3), 0px 1px 3px 1px rgba(60, 64, 67, 0.15);\n",
              "      fill: #174EA6;\n",
              "    }\n",
              "\n",
              "    .colab-df-buttons div {\n",
              "      margin-bottom: 4px;\n",
              "    }\n",
              "\n",
              "    [theme=dark] .colab-df-convert {\n",
              "      background-color: #3B4455;\n",
              "      fill: #D2E3FC;\n",
              "    }\n",
              "\n",
              "    [theme=dark] .colab-df-convert:hover {\n",
              "      background-color: #434B5C;\n",
              "      box-shadow: 0px 1px 3px 1px rgba(0, 0, 0, 0.15);\n",
              "      filter: drop-shadow(0px 1px 2px rgba(0, 0, 0, 0.3));\n",
              "      fill: #FFFFFF;\n",
              "    }\n",
              "  </style>\n",
              "\n",
              "    <script>\n",
              "      const buttonEl =\n",
              "        document.querySelector('#df-3b8f9d52-d894-430b-b5b2-870bfeba3a16 button.colab-df-convert');\n",
              "      buttonEl.style.display =\n",
              "        google.colab.kernel.accessAllowed ? 'block' : 'none';\n",
              "\n",
              "      async function convertToInteractive(key) {\n",
              "        const element = document.querySelector('#df-3b8f9d52-d894-430b-b5b2-870bfeba3a16');\n",
              "        const dataTable =\n",
              "          await google.colab.kernel.invokeFunction('convertToInteractive',\n",
              "                                                    [key], {});\n",
              "        if (!dataTable) return;\n",
              "\n",
              "        const docLinkHtml = 'Like what you see? Visit the ' +\n",
              "          '<a target=\"_blank\" href=https://colab.research.google.com/notebooks/data_table.ipynb>data table notebook</a>'\n",
              "          + ' to learn more about interactive tables.';\n",
              "        element.innerHTML = '';\n",
              "        dataTable['output_type'] = 'display_data';\n",
              "        await google.colab.output.renderOutput(dataTable, element);\n",
              "        const docLink = document.createElement('div');\n",
              "        docLink.innerHTML = docLinkHtml;\n",
              "        element.appendChild(docLink);\n",
              "      }\n",
              "    </script>\n",
              "  </div>\n",
              "\n",
              "\n",
              "<div id=\"df-6f097d10-6edb-4762-809e-cf78b4e81ea0\">\n",
              "  <button class=\"colab-df-quickchart\" onclick=\"quickchart('df-6f097d10-6edb-4762-809e-cf78b4e81ea0')\"\n",
              "            title=\"Suggest charts\"\n",
              "            style=\"display:none;\">\n",
              "\n",
              "<svg xmlns=\"http://www.w3.org/2000/svg\" height=\"24px\"viewBox=\"0 0 24 24\"\n",
              "     width=\"24px\">\n",
              "    <g>\n",
              "        <path d=\"M19 3H5c-1.1 0-2 .9-2 2v14c0 1.1.9 2 2 2h14c1.1 0 2-.9 2-2V5c0-1.1-.9-2-2-2zM9 17H7v-7h2v7zm4 0h-2V7h2v10zm4 0h-2v-4h2v4z\"/>\n",
              "    </g>\n",
              "</svg>\n",
              "  </button>\n",
              "\n",
              "<style>\n",
              "  .colab-df-quickchart {\n",
              "      --bg-color: #E8F0FE;\n",
              "      --fill-color: #1967D2;\n",
              "      --hover-bg-color: #E2EBFA;\n",
              "      --hover-fill-color: #174EA6;\n",
              "      --disabled-fill-color: #AAA;\n",
              "      --disabled-bg-color: #DDD;\n",
              "  }\n",
              "\n",
              "  [theme=dark] .colab-df-quickchart {\n",
              "      --bg-color: #3B4455;\n",
              "      --fill-color: #D2E3FC;\n",
              "      --hover-bg-color: #434B5C;\n",
              "      --hover-fill-color: #FFFFFF;\n",
              "      --disabled-bg-color: #3B4455;\n",
              "      --disabled-fill-color: #666;\n",
              "  }\n",
              "\n",
              "  .colab-df-quickchart {\n",
              "    background-color: var(--bg-color);\n",
              "    border: none;\n",
              "    border-radius: 50%;\n",
              "    cursor: pointer;\n",
              "    display: none;\n",
              "    fill: var(--fill-color);\n",
              "    height: 32px;\n",
              "    padding: 0;\n",
              "    width: 32px;\n",
              "  }\n",
              "\n",
              "  .colab-df-quickchart:hover {\n",
              "    background-color: var(--hover-bg-color);\n",
              "    box-shadow: 0 1px 2px rgba(60, 64, 67, 0.3), 0 1px 3px 1px rgba(60, 64, 67, 0.15);\n",
              "    fill: var(--button-hover-fill-color);\n",
              "  }\n",
              "\n",
              "  .colab-df-quickchart-complete:disabled,\n",
              "  .colab-df-quickchart-complete:disabled:hover {\n",
              "    background-color: var(--disabled-bg-color);\n",
              "    fill: var(--disabled-fill-color);\n",
              "    box-shadow: none;\n",
              "  }\n",
              "\n",
              "  .colab-df-spinner {\n",
              "    border: 2px solid var(--fill-color);\n",
              "    border-color: transparent;\n",
              "    border-bottom-color: var(--fill-color);\n",
              "    animation:\n",
              "      spin 1s steps(1) infinite;\n",
              "  }\n",
              "\n",
              "  @keyframes spin {\n",
              "    0% {\n",
              "      border-color: transparent;\n",
              "      border-bottom-color: var(--fill-color);\n",
              "      border-left-color: var(--fill-color);\n",
              "    }\n",
              "    20% {\n",
              "      border-color: transparent;\n",
              "      border-left-color: var(--fill-color);\n",
              "      border-top-color: var(--fill-color);\n",
              "    }\n",
              "    30% {\n",
              "      border-color: transparent;\n",
              "      border-left-color: var(--fill-color);\n",
              "      border-top-color: var(--fill-color);\n",
              "      border-right-color: var(--fill-color);\n",
              "    }\n",
              "    40% {\n",
              "      border-color: transparent;\n",
              "      border-right-color: var(--fill-color);\n",
              "      border-top-color: var(--fill-color);\n",
              "    }\n",
              "    60% {\n",
              "      border-color: transparent;\n",
              "      border-right-color: var(--fill-color);\n",
              "    }\n",
              "    80% {\n",
              "      border-color: transparent;\n",
              "      border-right-color: var(--fill-color);\n",
              "      border-bottom-color: var(--fill-color);\n",
              "    }\n",
              "    90% {\n",
              "      border-color: transparent;\n",
              "      border-bottom-color: var(--fill-color);\n",
              "    }\n",
              "  }\n",
              "</style>\n",
              "\n",
              "  <script>\n",
              "    async function quickchart(key) {\n",
              "      const quickchartButtonEl =\n",
              "        document.querySelector('#' + key + ' button');\n",
              "      quickchartButtonEl.disabled = true;  // To prevent multiple clicks.\n",
              "      quickchartButtonEl.classList.add('colab-df-spinner');\n",
              "      try {\n",
              "        const charts = await google.colab.kernel.invokeFunction(\n",
              "            'suggestCharts', [key], {});\n",
              "      } catch (error) {\n",
              "        console.error('Error during call to suggestCharts:', error);\n",
              "      }\n",
              "      quickchartButtonEl.classList.remove('colab-df-spinner');\n",
              "      quickchartButtonEl.classList.add('colab-df-quickchart-complete');\n",
              "    }\n",
              "    (() => {\n",
              "      let quickchartButtonEl =\n",
              "        document.querySelector('#df-6f097d10-6edb-4762-809e-cf78b4e81ea0 button');\n",
              "      quickchartButtonEl.style.display =\n",
              "        google.colab.kernel.accessAllowed ? 'block' : 'none';\n",
              "    })();\n",
              "  </script>\n",
              "</div>\n",
              "\n",
              "    </div>\n",
              "  </div>\n"
            ],
            "application/vnd.google.colaboratory.intrinsic+json": {
              "type": "dataframe",
              "summary": "{\n  \"name\": \"data\",\n  \"rows\": 3,\n  \"fields\": [\n    {\n      \"column\": \"count\",\n      \"properties\": {\n        \"dtype\": \"number\",\n        \"std\": 0.0,\n        \"min\": 72314.0,\n        \"max\": 72314.0,\n        \"num_unique_values\": 1,\n        \"samples\": [\n          72314.0\n        ],\n        \"semantic_type\": \"\",\n        \"description\": \"\"\n      }\n    },\n    {\n      \"column\": \"mean\",\n      \"properties\": {\n        \"dtype\": \"number\",\n        \"std\": 630509.0825656437,\n        \"min\": 7205.541236828277,\n        \"max\": 1100286.065436845,\n        \"num_unique_values\": 3,\n        \"samples\": [\n          9221.850416240286\n        ],\n        \"semantic_type\": \"\",\n        \"description\": \"\"\n      }\n    },\n    {\n      \"column\": \"std\",\n      \"properties\": {\n        \"dtype\": \"number\",\n        \"std\": 33328.267644852596,\n        \"min\": 117.7987532093711,\n        \"max\": 57847.1822597504,\n        \"num_unique_values\": 3,\n        \"samples\": [\n          124.06049743717429\n        ],\n        \"semantic_type\": \"\",\n        \"description\": \"\"\n      }\n    },\n    {\n      \"column\": \"min\",\n      \"properties\": {\n        \"dtype\": \"number\",\n        \"std\": 572759.7685111971,\n        \"min\": 7002.0,\n        \"max\": 1000052.0,\n        \"num_unique_values\": 3,\n        \"samples\": [\n          9007.0\n        ],\n        \"semantic_type\": \"\",\n        \"description\": \"\"\n      }\n    },\n    {\n      \"column\": \"25%\",\n      \"properties\": {\n        \"dtype\": \"number\",\n        \"std\": 601636.4824717663,\n        \"min\": 7104.0,\n        \"max\": 1050173.0,\n        \"num_unique_values\": 3,\n        \"samples\": [\n          9115.0\n        ],\n        \"semantic_type\": \"\",\n        \"description\": \"\"\n      }\n    },\n    {\n      \"column\": \"50%\",\n      \"properties\": {\n        \"dtype\": \"number\",\n        \"std\": 631178.5959792468,\n        \"min\": 7204.0,\n        \"max\": 1101445.0,\n        \"num_unique_values\": 3,\n        \"samples\": [\n          9222.0\n        ],\n        \"semantic_type\": \"\",\n        \"description\": \"\"\n      }\n    },\n    {\n      \"column\": \"75%\",\n      \"properties\": {\n        \"dtype\": \"number\",\n        \"std\": 659089.4089545059,\n        \"min\": 7307.0,\n        \"max\": 1149893.0,\n        \"num_unique_values\": 3,\n        \"samples\": [\n          9329.0\n        ],\n        \"semantic_type\": \"\",\n        \"description\": \"\"\n      }\n    },\n    {\n      \"column\": \"max\",\n      \"properties\": {\n        \"dtype\": \"number\",\n        \"std\": 688165.6069249125,\n        \"min\": 7409.0,\n        \"max\": 1200360.0,\n        \"num_unique_values\": 3,\n        \"samples\": [\n          9438.0\n        ],\n        \"semantic_type\": \"\",\n        \"description\": \"\"\n      }\n    }\n  ]\n}"
            }
          },
          "metadata": {},
          "execution_count": 30
        }
      ]
    },
    {
      "cell_type": "code",
      "source": [
        "# 1. Đổi tên các column có name chứa khoảng cách thành không có khoảng cách\n",
        "data.columns = [col.replace(' ', '_') for col in data.columns]"
      ],
      "metadata": {
        "id": "d6f1kUhnfXe_"
      },
      "execution_count": 51,
      "outputs": []
    },
    {
      "cell_type": "code",
      "source": [
        "# 2. Xóa cột Time_driver_arrived_at_restaurant và ASAP\n",
        "columns_to_drop = ['Time_driver_arrived_at_restaurant', 'ASAP']\n",
        "data.drop(columns=[col for col in columns_to_drop if col in data.columns], inplace=True)\n"
      ],
      "metadata": {
        "id": "zBF0_u5rfY6K"
      },
      "execution_count": 52,
      "outputs": []
    },
    {
      "cell_type": "code",
      "source": [
        "# Xử lí các giá trị Null của cột 'Time_order_placed_at_restaurant'\n",
        "data['Date'] = pd.to_datetime(data['Date'], format='%m/%d/%Y')\n"
      ],
      "metadata": {
        "id": "pl916sgvcOXe"
      },
      "execution_count": 53,
      "outputs": []
    },
    {
      "cell_type": "code",
      "source": [
        "# Chuyển các cột thời gian sang datetime kết hợp với Date\n",
        "data['Time_customer_placed_order'] = pd.to_datetime(\n",
        "    data['Date'].dt.strftime('%Y-%m-%d') + ' ' + data['Time_customer_placed_order'],\n",
        "    format='%Y-%m-%d %H:%M:%S'\n",
        ")\n",
        "data['Time_order_placed_at_restaurant'] = pd.to_datetime(\n",
        "    data['Date'].dt.strftime('%Y-%m-%d') + ' ' + data['Time_order_placed_at_restaurant'],\n",
        "    format='%Y-%m-%d %H:%M:%S'\n",
        ")\n",
        "data['Delivery_time'] = pd.to_datetime(\n",
        "    data['Date'].dt.strftime('%Y-%m-%d') + ' ' + data['Delivery_time'],\n",
        "    format='%Y-%m-%d %H:%M:%S'\n",
        ")\n",
        "\n",
        "# Xử lý thời gian qua ngày mới\n",
        "data.loc[data['Time_order_placed_at_restaurant'] < data['Time_customer_placed_order'], 'Time_order_placed_at_restaurant'] += pd.Timedelta(days=1)\n",
        "data.loc[data['Delivery_time'] < data['Time_customer_placed_order'], 'Delivery_time'] += pd.Timedelta(days=1)\n"
      ],
      "metadata": {
        "id": "OhCv0VKfc2g4"
      },
      "execution_count": 54,
      "outputs": []
    },
    {
      "cell_type": "code",
      "source": [
        "# Tính trung bình của (Delivery_time - Time_order_placed_at_restaurant)\n",
        "valid_time_diff = data['Delivery_time'] - data['Time_order_placed_at_restaurant']\n",
        "average_time_diff = valid_time_diff[~valid_time_diff.isna()].mean()\n",
        "# Làm tròn giây của average_time_diff\n",
        "average_time_diff = average_time_diff.round('S')"
      ],
      "metadata": {
        "colab": {
          "base_uri": "https://localhost:8080/"
        },
        "id": "xIIN123OLBl5",
        "outputId": "9aeb3591-6124-4cf6-dadb-8d4a5e2beb7a"
      },
      "execution_count": 60,
      "outputs": [
        {
          "output_type": "stream",
          "name": "stderr",
          "text": [
            "<ipython-input-60-64695ac863f7>:5: FutureWarning: 'S' is deprecated and will be removed in a future version, please use 's' instead.\n",
            "  average_time_diff = average_time_diff.round('S')\n"
          ]
        }
      ]
    },
    {
      "cell_type": "code",
      "source": [
        "print(\"Average time difference:\", average_time_diff)"
      ],
      "metadata": {
        "colab": {
          "base_uri": "https://localhost:8080/"
        },
        "id": "3bemYU_fMGAm",
        "outputId": "8efc8337-c98e-489e-ecf7-caeaec9fab8b"
      },
      "execution_count": 61,
      "outputs": [
        {
          "output_type": "stream",
          "name": "stdout",
          "text": [
            "Average time difference: 0 days 01:24:18\n"
          ]
        }
      ]
    },
    {
      "cell_type": "code",
      "source": [
        "# Điền giá trị Null trong 'Time_order_placed_at_restaurant'\n",
        "data['Time_order_placed_at_restaurant'] = data.apply(\n",
        "    lambda row: (row['Delivery_time'] - average_time_diff).round('S')\n",
        "    if pd.isna(row['Time_order_placed_at_restaurant'])\n",
        "    else row['Time_order_placed_at_restaurant'].round('S'),\n",
        "    axis=1)\n"
      ],
      "metadata": {
        "colab": {
          "base_uri": "https://localhost:8080/"
        },
        "id": "jm6kAm6nL402",
        "outputId": "9f19a78e-18bf-4909-dbce-91c4d123fcd4"
      },
      "execution_count": 72,
      "outputs": [
        {
          "output_type": "stream",
          "name": "stderr",
          "text": [
            "<ipython-input-72-d5b52a17f85d>:5: FutureWarning: 'S' is deprecated and will be removed in a future version, please use 's' instead.\n",
            "  else row['Time_order_placed_at_restaurant'].round('S'),\n"
          ]
        }
      ]
    },
    {
      "cell_type": "code",
      "source": [
        "# Định dạng lại cột Date chỉ lấy ngày\n",
        "data['Date'] = pd.to_datetime(data['Date']).dt.date"
      ],
      "metadata": {
        "id": "2H9tkEH4OzQ3"
      },
      "execution_count": 73,
      "outputs": []
    },
    {
      "cell_type": "code",
      "source": [
        "#Tạo table Driver (gồm Driver_ID với Driver_Name)\n",
        "if 'Driver_ID' in data.columns and 'Driver_Name' in data.columns:\n",
        "    driver_table = data[['Driver_ID', 'Driver_Name']].drop_duplicates()"
      ],
      "metadata": {
        "id": "JF8TuMF-f3Ux"
      },
      "execution_count": 74,
      "outputs": []
    },
    {
      "cell_type": "code",
      "source": [
        "#Tạo table Restaurant (gồm Restaurant_ID với Delivery_Area)\n",
        "if 'Restaurant_ID' in data.columns and 'Delivery_Area' in data.columns:\n",
        "    restaurant_table = data[['Restaurant_ID', 'Delivery_Area']].drop_duplicates()"
      ],
      "metadata": {
        "id": "lkxaOfuuf6_r"
      },
      "execution_count": 75,
      "outputs": []
    },
    {
      "cell_type": "code",
      "source": [
        "# Lưu dữ liệu\n",
        "data.to_csv('Cleaned_Data.csv', index=False)"
      ],
      "metadata": {
        "id": "Vqoyj4ONf9i7"
      },
      "execution_count": 77,
      "outputs": []
    },
    {
      "cell_type": "code",
      "source": [
        "driver_table.to_csv('driver_table.csv', index=False)\n",
        "restaurant_table.to_csv('restaurant_table.csv', index=False)"
      ],
      "metadata": {
        "id": "ONJQoAA6hCUw"
      },
      "execution_count": 78,
      "outputs": []
    }
  ]
}